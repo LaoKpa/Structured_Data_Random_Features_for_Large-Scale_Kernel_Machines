{
 "cells": [
  {
   "cell_type": "code",
   "execution_count": 20,
   "metadata": {
    "collapsed": true
   },
   "outputs": [],
   "source": [
    "import numpy as np\n",
    "from sklearn.model_selection import train_test_split\n",
    "import pandas as pd \n",
    "import time\n",
    "from sklearn.kernel_approximation import RBFSampler\n",
    "from sklearn.linear_model import Ridge\n",
    "from sklearn import metrics\n",
    "from sklearn.svm import SVR\n",
    "import scipy\n",
    "import RandomBinningFeatures\n",
    "import matplotlib.pyplot as plt \n",
    "%matplotlib inline "
   ]
  },
  {
   "cell_type": "markdown",
   "metadata": {},
   "source": [
    "### Read the data"
   ]
  },
  {
   "cell_type": "code",
   "execution_count": 2,
   "metadata": {},
   "outputs": [
    {
     "name": "stderr",
     "output_type": "stream",
     "text": [
      "/anaconda/envs/py35/lib/python3.5/site-packages/ipykernel/__main__.py:1: ParserWarning: Falling back to the 'python' engine because the 'c' engine does not support regex separators (separators > 1 char and different from '\\s+' are interpreted as regex); you can avoid this warning by specifying engine='python'.\n",
      "  if __name__ == '__main__':\n"
     ]
    }
   ],
   "source": [
    "data = pd.read_csv('data.txt',sep='   ',header=None,prefix='X')\n",
    "data.columns = ['Lever position','Ship speed','Gas Turbine shaft torque','Gas Turbine rate of revolutions','Gas Generator rate of revolutions', \n",
    "                'Starboard Propeller Torque','Port Propeller Torque','HP Turbine exit temperature','GT Compressor inlet air temperature',\n",
    "                'GT Compressor outlet air temperature','HP Turbine exit pressure','GT Compressor inlet air pressure','GT Compressor outlet air pressure',\n",
    "                'Gas Turbine exhaust gas pressure','Turbine Injecton Control','Fuel flow','GT Compressor decay state coefficient','GT Turbine decay state coefficient']"
   ]
  },
  {
   "cell_type": "code",
   "execution_count": 3,
   "metadata": {
    "scrolled": true
   },
   "outputs": [
    {
     "data": {
      "text/html": [
       "<div>\n",
       "<table border=\"1\" class=\"dataframe\">\n",
       "  <thead>\n",
       "    <tr style=\"text-align: right;\">\n",
       "      <th></th>\n",
       "      <th>Lever position</th>\n",
       "      <th>Ship speed</th>\n",
       "      <th>Gas Turbine shaft torque</th>\n",
       "      <th>Gas Turbine rate of revolutions</th>\n",
       "      <th>Gas Generator rate of revolutions</th>\n",
       "      <th>Starboard Propeller Torque</th>\n",
       "      <th>Port Propeller Torque</th>\n",
       "      <th>HP Turbine exit temperature</th>\n",
       "      <th>GT Compressor inlet air temperature</th>\n",
       "      <th>GT Compressor outlet air temperature</th>\n",
       "      <th>HP Turbine exit pressure</th>\n",
       "      <th>GT Compressor inlet air pressure</th>\n",
       "      <th>GT Compressor outlet air pressure</th>\n",
       "      <th>Gas Turbine exhaust gas pressure</th>\n",
       "      <th>Turbine Injecton Control</th>\n",
       "      <th>Fuel flow</th>\n",
       "      <th>GT Compressor decay state coefficient</th>\n",
       "      <th>GT Turbine decay state coefficient</th>\n",
       "    </tr>\n",
       "  </thead>\n",
       "  <tbody>\n",
       "    <tr>\n",
       "      <th>0</th>\n",
       "      <td>1.138</td>\n",
       "      <td>3.0</td>\n",
       "      <td>289.964</td>\n",
       "      <td>1349.489</td>\n",
       "      <td>6677.380</td>\n",
       "      <td>7.584</td>\n",
       "      <td>7.584</td>\n",
       "      <td>464.006</td>\n",
       "      <td>288.0</td>\n",
       "      <td>550.563</td>\n",
       "      <td>1.096</td>\n",
       "      <td>0.998</td>\n",
       "      <td>5.947</td>\n",
       "      <td>1.019</td>\n",
       "      <td>7.137</td>\n",
       "      <td>0.082</td>\n",
       "      <td>0.95</td>\n",
       "      <td>0.975</td>\n",
       "    </tr>\n",
       "    <tr>\n",
       "      <th>1</th>\n",
       "      <td>2.088</td>\n",
       "      <td>6.0</td>\n",
       "      <td>6960.180</td>\n",
       "      <td>1376.166</td>\n",
       "      <td>6828.469</td>\n",
       "      <td>28.204</td>\n",
       "      <td>28.204</td>\n",
       "      <td>635.401</td>\n",
       "      <td>288.0</td>\n",
       "      <td>581.658</td>\n",
       "      <td>1.331</td>\n",
       "      <td>0.998</td>\n",
       "      <td>7.282</td>\n",
       "      <td>1.019</td>\n",
       "      <td>10.655</td>\n",
       "      <td>0.287</td>\n",
       "      <td>0.95</td>\n",
       "      <td>0.975</td>\n",
       "    </tr>\n",
       "    <tr>\n",
       "      <th>2</th>\n",
       "      <td>3.144</td>\n",
       "      <td>9.0</td>\n",
       "      <td>8379.229</td>\n",
       "      <td>1386.757</td>\n",
       "      <td>7111.811</td>\n",
       "      <td>60.358</td>\n",
       "      <td>60.358</td>\n",
       "      <td>606.002</td>\n",
       "      <td>288.0</td>\n",
       "      <td>587.587</td>\n",
       "      <td>1.389</td>\n",
       "      <td>0.998</td>\n",
       "      <td>7.574</td>\n",
       "      <td>1.020</td>\n",
       "      <td>13.086</td>\n",
       "      <td>0.259</td>\n",
       "      <td>0.95</td>\n",
       "      <td>0.975</td>\n",
       "    </tr>\n",
       "    <tr>\n",
       "      <th>3</th>\n",
       "      <td>4.161</td>\n",
       "      <td>12.0</td>\n",
       "      <td>14724.395</td>\n",
       "      <td>1547.465</td>\n",
       "      <td>7792.630</td>\n",
       "      <td>113.774</td>\n",
       "      <td>113.774</td>\n",
       "      <td>661.471</td>\n",
       "      <td>288.0</td>\n",
       "      <td>613.851</td>\n",
       "      <td>1.658</td>\n",
       "      <td>0.998</td>\n",
       "      <td>9.007</td>\n",
       "      <td>1.022</td>\n",
       "      <td>18.109</td>\n",
       "      <td>0.358</td>\n",
       "      <td>0.95</td>\n",
       "      <td>0.975</td>\n",
       "    </tr>\n",
       "    <tr>\n",
       "      <th>4</th>\n",
       "      <td>5.140</td>\n",
       "      <td>15.0</td>\n",
       "      <td>21636.432</td>\n",
       "      <td>1924.313</td>\n",
       "      <td>8494.777</td>\n",
       "      <td>175.306</td>\n",
       "      <td>175.306</td>\n",
       "      <td>731.494</td>\n",
       "      <td>288.0</td>\n",
       "      <td>645.642</td>\n",
       "      <td>2.078</td>\n",
       "      <td>0.998</td>\n",
       "      <td>11.197</td>\n",
       "      <td>1.026</td>\n",
       "      <td>26.373</td>\n",
       "      <td>0.522</td>\n",
       "      <td>0.95</td>\n",
       "      <td>0.975</td>\n",
       "    </tr>\n",
       "  </tbody>\n",
       "</table>\n",
       "</div>"
      ],
      "text/plain": [
       "   Lever position  Ship speed  Gas Turbine shaft torque  \\\n",
       "0           1.138         3.0                   289.964   \n",
       "1           2.088         6.0                  6960.180   \n",
       "2           3.144         9.0                  8379.229   \n",
       "3           4.161        12.0                 14724.395   \n",
       "4           5.140        15.0                 21636.432   \n",
       "\n",
       "   Gas Turbine rate of revolutions  Gas Generator rate of revolutions  \\\n",
       "0                         1349.489                           6677.380   \n",
       "1                         1376.166                           6828.469   \n",
       "2                         1386.757                           7111.811   \n",
       "3                         1547.465                           7792.630   \n",
       "4                         1924.313                           8494.777   \n",
       "\n",
       "   Starboard Propeller Torque  Port Propeller Torque  \\\n",
       "0                       7.584                  7.584   \n",
       "1                      28.204                 28.204   \n",
       "2                      60.358                 60.358   \n",
       "3                     113.774                113.774   \n",
       "4                     175.306                175.306   \n",
       "\n",
       "   HP Turbine exit temperature  GT Compressor inlet air temperature  \\\n",
       "0                      464.006                                288.0   \n",
       "1                      635.401                                288.0   \n",
       "2                      606.002                                288.0   \n",
       "3                      661.471                                288.0   \n",
       "4                      731.494                                288.0   \n",
       "\n",
       "   GT Compressor outlet air temperature  HP Turbine exit pressure  \\\n",
       "0                               550.563                     1.096   \n",
       "1                               581.658                     1.331   \n",
       "2                               587.587                     1.389   \n",
       "3                               613.851                     1.658   \n",
       "4                               645.642                     2.078   \n",
       "\n",
       "   GT Compressor inlet air pressure  GT Compressor outlet air pressure  \\\n",
       "0                             0.998                              5.947   \n",
       "1                             0.998                              7.282   \n",
       "2                             0.998                              7.574   \n",
       "3                             0.998                              9.007   \n",
       "4                             0.998                             11.197   \n",
       "\n",
       "   Gas Turbine exhaust gas pressure  Turbine Injecton Control  Fuel flow  \\\n",
       "0                             1.019                     7.137      0.082   \n",
       "1                             1.019                    10.655      0.287   \n",
       "2                             1.020                    13.086      0.259   \n",
       "3                             1.022                    18.109      0.358   \n",
       "4                             1.026                    26.373      0.522   \n",
       "\n",
       "   GT Compressor decay state coefficient  GT Turbine decay state coefficient  \n",
       "0                                   0.95                               0.975  \n",
       "1                                   0.95                               0.975  \n",
       "2                                   0.95                               0.975  \n",
       "3                                   0.95                               0.975  \n",
       "4                                   0.95                               0.975  "
      ]
     },
     "execution_count": 3,
     "metadata": {},
     "output_type": "execute_result"
    }
   ],
   "source": [
    "data.head()"
   ]
  },
  {
   "cell_type": "markdown",
   "metadata": {},
   "source": [
    "We find that there is no NaN values in this dataset."
   ]
  },
  {
   "cell_type": "code",
   "execution_count": 4,
   "metadata": {
    "scrolled": true
   },
   "outputs": [
    {
     "data": {
      "text/plain": [
       "False"
      ]
     },
     "execution_count": 4,
     "metadata": {},
     "output_type": "execute_result"
    }
   ],
   "source": [
    "#without nan value\n",
    "data.isnull().values.any()"
   ]
  },
  {
   "cell_type": "code",
   "execution_count": 5,
   "metadata": {},
   "outputs": [
    {
     "name": "stdout",
     "output_type": "stream",
     "text": [
      "<class 'pandas.core.frame.DataFrame'>\n",
      "RangeIndex: 11934 entries, 0 to 11933\n",
      "Data columns (total 18 columns):\n",
      "Lever position                           11934 non-null float64\n",
      "Ship speed                               11934 non-null float64\n",
      "Gas Turbine shaft torque                 11934 non-null float64\n",
      "Gas Turbine rate of revolutions          11934 non-null float64\n",
      "Gas Generator rate of revolutions        11934 non-null float64\n",
      "Starboard Propeller Torque               11934 non-null float64\n",
      "Port Propeller Torque                    11934 non-null float64\n",
      "HP Turbine exit temperature              11934 non-null float64\n",
      "GT Compressor inlet air temperature      11934 non-null float64\n",
      "GT Compressor outlet air temperature     11934 non-null float64\n",
      "HP Turbine exit pressure                 11934 non-null float64\n",
      "GT Compressor inlet air pressure         11934 non-null float64\n",
      "GT Compressor outlet air pressure        11934 non-null float64\n",
      "Gas Turbine exhaust gas pressure         11934 non-null float64\n",
      "Turbine Injecton Control                 11934 non-null float64\n",
      "Fuel flow                                11934 non-null float64\n",
      "GT Compressor decay state coefficient    11934 non-null float64\n",
      "GT Turbine decay state coefficient       11934 non-null float64\n",
      "dtypes: float64(18)\n",
      "memory usage: 1.6 MB\n"
     ]
    }
   ],
   "source": [
    "data.info()"
   ]
  },
  {
   "cell_type": "code",
   "execution_count": 6,
   "metadata": {
    "collapsed": true
   },
   "outputs": [],
   "source": [
    "num_features = len(data.columns)#get the number of features "
   ]
  },
  {
   "cell_type": "code",
   "execution_count": 7,
   "metadata": {
    "collapsed": true
   },
   "outputs": [],
   "source": [
    "unique_num_features = []\n",
    "for i in range(num_features):\n",
    "    unique_num_features.append(len(data[data.columns[i]].unique()))"
   ]
  },
  {
   "cell_type": "code",
   "execution_count": 8,
   "metadata": {},
   "outputs": [
    {
     "name": "stdout",
     "output_type": "stream",
     "text": [
      "4\n"
     ]
    }
   ],
   "source": [
    "print(np.argmax(unique_num_features))"
   ]
  },
  {
   "cell_type": "code",
   "execution_count": 9,
   "metadata": {
    "collapsed": true
   },
   "outputs": [],
   "source": [
    "label_num = np.argmax(unique_num_features)"
   ]
  },
  {
   "cell_type": "markdown",
   "metadata": {},
   "source": [
    "To set the faeture with the largest number of unique values as the label in this regression task."
   ]
  },
  {
   "cell_type": "code",
   "execution_count": 10,
   "metadata": {
    "collapsed": true
   },
   "outputs": [],
   "source": [
    "X = data.drop([data.columns[label_num]],axis=1)\n",
    "y = data[data.columns[label_num]]"
   ]
  },
  {
   "cell_type": "code",
   "execution_count": 11,
   "metadata": {},
   "outputs": [
    {
     "name": "stdout",
     "output_type": "stream",
     "text": [
      "<class 'pandas.core.frame.DataFrame'>\n",
      "RangeIndex: 11934 entries, 0 to 11933\n",
      "Data columns (total 17 columns):\n",
      "Lever position                           11934 non-null float64\n",
      "Ship speed                               11934 non-null float64\n",
      "Gas Turbine shaft torque                 11934 non-null float64\n",
      "Gas Turbine rate of revolutions          11934 non-null float64\n",
      "Starboard Propeller Torque               11934 non-null float64\n",
      "Port Propeller Torque                    11934 non-null float64\n",
      "HP Turbine exit temperature              11934 non-null float64\n",
      "GT Compressor inlet air temperature      11934 non-null float64\n",
      "GT Compressor outlet air temperature     11934 non-null float64\n",
      "HP Turbine exit pressure                 11934 non-null float64\n",
      "GT Compressor inlet air pressure         11934 non-null float64\n",
      "GT Compressor outlet air pressure        11934 non-null float64\n",
      "Gas Turbine exhaust gas pressure         11934 non-null float64\n",
      "Turbine Injecton Control                 11934 non-null float64\n",
      "Fuel flow                                11934 non-null float64\n",
      "GT Compressor decay state coefficient    11934 non-null float64\n",
      "GT Turbine decay state coefficient       11934 non-null float64\n",
      "dtypes: float64(17)\n",
      "memory usage: 1.5 MB\n"
     ]
    }
   ],
   "source": [
    "X.info()"
   ]
  },
  {
   "cell_type": "code",
   "execution_count": 12,
   "metadata": {},
   "outputs": [
    {
     "data": {
      "text/plain": [
       "0    6677.380\n",
       "1    6828.469\n",
       "2    7111.811\n",
       "3    7792.630\n",
       "4    8494.777\n",
       "Name: Gas Generator rate of revolutions, dtype: float64"
      ]
     },
     "execution_count": 12,
     "metadata": {},
     "output_type": "execute_result"
    }
   ],
   "source": [
    "y.head()"
   ]
  },
  {
   "cell_type": "code",
   "execution_count": 13,
   "metadata": {
    "collapsed": true
   },
   "outputs": [],
   "source": [
    "X_train, X_test, y_train, y_test = train_test_split(X, y, test_size=0.33, random_state=42)"
   ]
  },
  {
   "cell_type": "code",
   "execution_count": 14,
   "metadata": {},
   "outputs": [
    {
     "data": {
      "text/plain": [
       "((7995, 17), (7995,))"
      ]
     },
     "execution_count": 14,
     "metadata": {},
     "output_type": "execute_result"
    }
   ],
   "source": [
    "(X_train.shape,y_train.shape)"
   ]
  },
  {
   "cell_type": "code",
   "execution_count": 15,
   "metadata": {},
   "outputs": [
    {
     "data": {
      "text/plain": [
       "((3939, 17), (3939,))"
      ]
     },
     "execution_count": 15,
     "metadata": {},
     "output_type": "execute_result"
    }
   ],
   "source": [
    "(X_test.shape,y_test.shape)"
   ]
  },
  {
   "cell_type": "markdown",
   "metadata": {},
   "source": [
    "### Random Fourier Features "
   ]
  },
  {
   "cell_type": "code",
   "execution_count": 16,
   "metadata": {},
   "outputs": [
    {
     "name": "stdout",
     "output_type": "stream",
     "text": [
      "--- 0.6970779895782471 seconds ---\n",
      "error:   0.225%\n"
     ]
    }
   ],
   "source": [
    "start_time = time.time()\n",
    "rbf_feature = RBFSampler(gamma=0.0001, random_state=42, n_components=500)\n",
    "rbf_feature.fit(X_train)\n",
    "X_features_train = rbf_feature.transform(X_train)\n",
    "X_features_test = rbf_feature.transform(X_test)\n",
    "clf = Ridge(alpha=0.01, solver='lsqr',random_state=42)\n",
    "clf.fit(X_features_train, y_train) \n",
    "y_pred = clf.predict(X_features_test)\n",
    "print(\"--- %s seconds ---\" % (time.time() - start_time))\n",
    "score = np.linalg.norm((y_test-y_pred))/np.linalg.norm(y_test)*100\n",
    "print(\"error:   %0.3f\" % score+\"%\")"
   ]
  },
  {
   "cell_type": "markdown",
   "metadata": {},
   "source": [
    "### Random Binning Features"
   ]
  },
  {
   "cell_type": "code",
   "execution_count": 17,
   "metadata": {},
   "outputs": [
    {
     "name": "stderr",
     "output_type": "stream",
     "text": [
      "/anaconda/envs/py35/lib/python3.5/site-packages/sklearn/linear_model/ridge.py:311: UserWarning: In Ridge, only 'sag' solver can currently fit the intercept when X is sparse. Solver has been automatically changed into 'sag'.\n",
      "  warnings.warn(\"In Ridge, only 'sag' solver can currently fit the \"\n"
     ]
    },
    {
     "name": "stdout",
     "output_type": "stream",
     "text": [
      "--- 1.3524317741394043 seconds ---\n",
      "C = 141915; error_test = 7.58%\n"
     ]
    }
   ],
   "source": [
    "err = RandomBinningFeatures.RandomBinning.evaluate_random_binning(X_train, y_train, X_test, y_test, 30, 'regression')"
   ]
  },
  {
   "cell_type": "markdown",
   "metadata": {},
   "source": [
    "### SVM"
   ]
  },
  {
   "cell_type": "code",
   "execution_count": 18,
   "metadata": {},
   "outputs": [
    {
     "name": "stdout",
     "output_type": "stream",
     "text": [
      "--- 11.381791830062866 seconds ---\n",
      "error:   9.456%\n"
     ]
    }
   ],
   "source": [
    "start_time = time.time()\n",
    "svr_ = SVR(kernel='rbf', gamma=0.0001)\n",
    "svr_.fit(X_train,y_train)\n",
    "y_pred = svr_.predict(X_test)\n",
    "print(\"--- %s seconds ---\" % (time.time() - start_time))\n",
    "score = np.linalg.norm((y_test-y_pred))/np.linalg.norm(y_test)*100\n",
    "print(\"error:   %0.3f\" % score+\"%\")"
   ]
  },
  {
   "cell_type": "markdown",
   "metadata": {},
   "source": [
    "### Plotting "
   ]
  },
  {
   "cell_type": "code",
   "execution_count": 46,
   "metadata": {},
   "outputs": [],
   "source": [
    "#use random fourier feature\n",
    "def plot_error_and_time(D,gamma=0.01,alpha=10.):\n",
    "    times = []\n",
    "    errs = [] \n",
    "    for d in D:\n",
    "        start_time = time.time()\n",
    "        rbfs = RBFSampler(gamma=gamma,n_components=d,random_state=42)\n",
    "        Z = rbfs.fit(X_train)\n",
    "        train_features = Z.transform(X_train)\n",
    "        test_features = Z.transform(X_test)\n",
    "\n",
    "        clf = Ridge(alpha=alpha, solver='lsqr',random_state=42)\n",
    "        clf.fit(train_features, y_train) \n",
    "        y_pred = clf.predict(test_features)\n",
    "\n",
    "        times.append(time.time() - start_time)\n",
    "        errs.append(np.linalg.norm((y_test-y_pred))/np.linalg.norm(y_test)*100) \n",
    "        \n",
    "    plt.figure(figsize=(12,6))\n",
    "    plt.subplot(121)\n",
    "    plt.plot(D, times)\n",
    "    plt.xlabel(\"D\")\n",
    "    plt.ylabel(\"training and testing time(sec)\")\n",
    "    plt.subplot(122)\n",
    "    plt.plot(D,errs)\n",
    "    plt.xlabel(\"D\")\n",
    "    plt.ylabel(\"testing error rate(%)\")"
   ]
  },
  {
   "cell_type": "code",
   "execution_count": 47,
   "metadata": {
    "scrolled": true
   },
   "outputs": [
    {
     "data": {
      "image/png": "[encoded data removed]",
      "text/plain": [
       "<Figure size 864x432 with 2 Axes>"
      ]
     },
     "metadata": {},
     "output_type": "display_data"
    }
   ],
   "source": [
    "plot_error_and_time([10,20,30,40,50],gamma=0.0001, alpha=0.01)"
   ]
  },
  {
   "cell_type": "code",
   "execution_count": 58,
   "metadata": {
    "collapsed": true
   },
   "outputs": [],
   "source": [
    "#use random binning feature\n",
    "def plot_error_and_time(D,gamma=0.01,alpha=10.):\n",
    "    times = []\n",
    "    errs = [] \n",
    "    for d in D:\n",
    "        start_time = time.time()\n",
    "        rbfs = RandomBinningFeatures.RandomBinning.evaluate_random_binning(X_train, y_train, X_test, y_test, d, 'regression')\n",
    "        times.append(time.time() - start_time)\n",
    "        errs.append(rbfs) \n",
    "        \n",
    "    plt.figure(figsize=(12,6))\n",
    "    plt.subplot(121)\n",
    "    plt.plot(D, times)\n",
    "    plt.xlabel(\"P\")\n",
    "    plt.ylabel(\"training and testing time(sec)\")\n",
    "    plt.subplot(122)\n",
    "    plt.plot(D,errs)\n",
    "    plt.xlabel(\"P\")\n",
    "    plt.ylabel(\"testing error rate(%)\")"
   ]
  },
  {
   "cell_type": "code",
   "execution_count": 60,
   "metadata": {},
   "outputs": [
    {
     "name": "stderr",
     "output_type": "stream",
     "text": [
      "/anaconda/envs/py35/lib/python3.5/site-packages/sklearn/linear_model/ridge.py:311: UserWarning: In Ridge, only 'sag' solver can currently fit the intercept when X is sparse. Solver has been automatically changed into 'sag'.\n",
      "  warnings.warn(\"In Ridge, only 'sag' solver can currently fit the \"\n"
     ]
    },
    {
     "name": "stdout",
     "output_type": "stream",
     "text": [
      "--- 0.4893910884857178 seconds ---\n",
      "C = 57147; error_test = 9.05%\n",
      "--- 0.8732907772064209 seconds ---\n",
      "C = 93148; error_test = 8.56%\n",
      "--- 1.3105692863464355 seconds ---\n",
      "C = 150477; error_test = 8.93%\n",
      "--- 1.7865700721740723 seconds ---\n",
      "C = 186295; error_test = 8.13%\n",
      "--- 2.246891975402832 seconds ---\n",
      "C = 242091; error_test = 8.29%\n"
     ]
    },
    {
     "data": {
      "image/png": "[encoded data removed]",
      "text/plain": [
       "<Figure size 864x432 with 2 Axes>"
      ]
     },
     "metadata": {},
     "output_type": "display_data"
    }
   ],
   "source": [
    "plot_error_and_time([10,20,30,40,50],gamma=0.0001, alpha=0.01)"
   ]
  },
  {
   "cell_type": "code",
   "execution_count": null,
   "metadata": {
    "collapsed": true
   },
   "outputs": [],
   "source": []
  }
 ],
 "metadata": {
  "kernelspec": {
   "display_name": "Python [default]",
   "language": "python",
   "name": "python3"
  },
  "language_info": {
   "codemirror_mode": {
    "name": "ipython",
    "version": 3
   },
   "file_extension": ".py",
   "mimetype": "text/x-python",
   "name": "python",
   "nbconvert_exporter": "python",
   "pygments_lexer": "ipython3",
   "version": "3.5.2"
  }
 },
 "nbformat": 4,
 "nbformat_minor": 2
}
